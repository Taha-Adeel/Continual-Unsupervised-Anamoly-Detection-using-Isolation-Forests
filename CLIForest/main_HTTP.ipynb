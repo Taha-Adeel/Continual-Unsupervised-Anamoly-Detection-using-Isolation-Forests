{
 "cells": [
  {
   "cell_type": "code",
   "execution_count": 1,
   "metadata": {},
   "outputs": [],
   "source": [
    "from models.iforest import IsolationForest\n",
    "import pandas as pd\n",
    "from sklearn.metrics import confusion_matrix, classification_report, roc_auc_score, average_precision_score\n",
    "from util.utils import find_TPR_threshold\n",
    "from sklearn.ensemble import IsolationForest as skIsolationForest\n",
    "from sklearn.model_selection import train_test_split\n",
    "import time\n",
    "import matplotlib.pyplot as plt"
   ]
  },
  {
   "cell_type": "code",
   "execution_count": 2,
   "metadata": {},
   "outputs": [],
   "source": [
    "# Hyperparameters\n",
    "n_estimators = 50\n",
    "test_size = 0.7 # 30% for training, 70% for testing\n",
    "seed = 42"
   ]
  },
  {
   "cell_type": "code",
   "execution_count": 3,
   "metadata": {},
   "outputs": [],
   "source": [
    "# Print functions\n",
    "def print_stats(X, y, name):\n",
    "    print(f'\\nDataset: {name}')\n",
    "    print(f'Dataset shape: {X.shape}')\n",
    "    print(f'Anomalies in dataset: {y.value_counts()[1]}')\n",
    "    print(f'Contains NaN: {X.isnull().values.any()}')\n",
    "    print(f'Contamination rate: {y.value_counts()[1]/len(y) * 100:0.3f}%')\n",
    "\n",
    "def print_metrics(y, y_pred):\n",
    "    print(f'Confusion matrix:\\n{confusion_matrix(y, y_pred)}')\n",
    "    print(f'Classification report:\\n{classification_report(y, y_pred)}')\n",
    "    print(f'ROC AUC score: {roc_auc_score(y, y_pred):.5f}')\n",
    "    print(f'PR AUC score: {average_precision_score(y, y_pred):.5f}')"
   ]
  },
  {
   "cell_type": "code",
   "execution_count": 4,
   "metadata": {},
   "outputs": [
    {
     "name": "stdout",
     "output_type": "stream",
     "text": [
      "\n",
      "Dataset: HTTP\n",
      "Dataset shape: (567497, 3)\n",
      "Anomalies in dataset: 2211\n",
      "Contains NaN: False\n",
      "Contamination rate: 0.390%\n",
      "\n",
      "Dataset: HTTP Train\n",
      "Dataset shape: (170249, 3)\n",
      "Anomalies in dataset: 686\n",
      "Contains NaN: False\n",
      "Contamination rate: 0.403%\n",
      "\n",
      "Dataset: HTTP Test\n",
      "Dataset shape: (397248, 3)\n",
      "Anomalies in dataset: 1525\n",
      "Contains NaN: False\n",
      "Contamination rate: 0.384%\n"
     ]
    }
   ],
   "source": [
    "# Load data and split into train and test\n",
    "data = pd.read_csv('../datasets/HTTP.csv')\n",
    "X = data.drop('3', axis=1)\n",
    "y = data['3']\n",
    "X_train, X_test, y_train, y_test = train_test_split(X, y, test_size=test_size, random_state=seed)\n",
    "\n",
    "print_stats(X, y, 'HTTP')\n",
    "print_stats(X_train, y_train, 'HTTP Train')\n",
    "print_stats(X_test, y_test, 'HTTP Test')"
   ]
  },
  {
   "cell_type": "code",
   "execution_count": 5,
   "metadata": {},
   "outputs": [
    {
     "name": "stdout",
     "output_type": "stream",
     "text": [
      "Training time: 11.335s\n"
     ]
    }
   ],
   "source": [
    "# Train Isolation Forest\n",
    "iforest = IsolationForest(sample_size=X_train.shape[0], n_trees=n_estimators)\n",
    "start_time = time.time()\n",
    "iforest.fit(X_train)\n",
    "end_time = time.time()\n",
    "print(f'Training time: {end_time - start_time:0.3f}s')"
   ]
  },
  {
   "cell_type": "code",
   "execution_count": 6,
   "metadata": {},
   "outputs": [
    {
     "name": "stdout",
     "output_type": "stream",
     "text": [
      "Threshold: 0.607\n",
      "FPR: 0.000\n"
     ]
    }
   ],
   "source": [
    "# Predict\n",
    "scores = iforest.anomaly_score(X_test)\n",
    "threshold, FPR = find_TPR_threshold(y_test, scores, 0.8)\n",
    "y_pred = iforest.predict_from_anomaly_scores(scores, threshold)\n",
    "\n",
    "print(f'Threshold: {threshold:0.3f}')\n",
    "print(f'FPR: {FPR:0.3f}')"
   ]
  },
  {
   "cell_type": "code",
   "execution_count": 7,
   "metadata": {},
   "outputs": [
    {
     "name": "stdout",
     "output_type": "stream",
     "text": [
      "Confusion matrix:\n",
      "[[395603    120]\n",
      " [     6   1519]]\n",
      "Classification report:\n",
      "              precision    recall  f1-score   support\n",
      "\n",
      "           0       1.00      1.00      1.00    395723\n",
      "           1       0.93      1.00      0.96      1525\n",
      "\n",
      "    accuracy                           1.00    397248\n",
      "   macro avg       0.96      1.00      0.98    397248\n",
      "weighted avg       1.00      1.00      1.00    397248\n",
      "\n",
      "ROC AUC score: 0.99788\n",
      "PR AUC score: 0.92315\n"
     ]
    }
   ],
   "source": [
    "print_metrics(y_test, y_pred)"
   ]
  },
  {
   "cell_type": "code",
   "execution_count": 8,
   "metadata": {},
   "outputs": [
    {
     "name": "stdout",
     "output_type": "stream",
     "text": [
      "Sklearn training time: 0.863s\n"
     ]
    }
   ],
   "source": [
    "# Compare with sklearn\n",
    "sk_iforest = skIsolationForest(n_estimators=n_estimators, max_samples=1.0, n_jobs=-1, random_state=seed)\n",
    "start_time = time.time()\n",
    "sk_iforest.fit(X_train)\n",
    "end_time = time.time()\n",
    "print(f'Sklearn training time: {end_time - start_time:0.3f}s')"
   ]
  },
  {
   "cell_type": "code",
   "execution_count": 9,
   "metadata": {},
   "outputs": [],
   "source": [
    "# Predict\n",
    "sk_y_pred = [1 if x == -1 else 0 for x in sk_iforest.predict(X_test)]"
   ]
  },
  {
   "cell_type": "code",
   "execution_count": 10,
   "metadata": {},
   "outputs": [
    {
     "name": "stdout",
     "output_type": "stream",
     "text": [
      "Confusion matrix:\n",
      "[[395085    638]\n",
      " [     4   1521]]\n",
      "Classification report:\n",
      "              precision    recall  f1-score   support\n",
      "\n",
      "           0       1.00      1.00      1.00    395723\n",
      "           1       0.70      1.00      0.83      1525\n",
      "\n",
      "    accuracy                           1.00    397248\n",
      "   macro avg       0.85      1.00      0.91    397248\n",
      "weighted avg       1.00      1.00      1.00    397248\n",
      "\n",
      "ROC AUC score: 0.99788\n",
      "PR AUC score: 0.70266\n"
     ]
    }
   ],
   "source": [
    "print_metrics(y_test, sk_y_pred)"
   ]
  }
 ],
 "metadata": {
  "kernelspec": {
   "display_name": "nids",
   "language": "python",
   "name": "python3"
  },
  "language_info": {
   "codemirror_mode": {
    "name": "ipython",
    "version": 3
   },
   "file_extension": ".py",
   "mimetype": "text/x-python",
   "name": "python",
   "nbconvert_exporter": "python",
   "pygments_lexer": "ipython3",
   "version": "3.10.12"
  }
 },
 "nbformat": 4,
 "nbformat_minor": 2
}
