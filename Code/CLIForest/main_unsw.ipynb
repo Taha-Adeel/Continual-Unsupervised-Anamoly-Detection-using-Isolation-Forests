{
 "cells": [
  {
   "cell_type": "code",
   "execution_count": 1,
   "metadata": {},
   "outputs": [],
   "source": [
    "from models.iforest import IsolationForest\n",
    "import pandas as pd\n",
    "from sklearn.metrics import confusion_matrix, classification_report, roc_auc_score, f1_score\n",
    "from util.utils import find_TPR_threshold\n",
    "from sklearn.ensemble import IsolationForest as skIsolationForest\n",
    "import time\n",
    "import os\n",
    "import numpy as np"
   ]
  },
  {
   "cell_type": "code",
   "execution_count": 2,
   "metadata": {},
   "outputs": [
    {
     "name": "stdout",
     "output_type": "stream",
     "text": [
      "Training Data:-\n",
      "Shape: (175341, 45)\n",
      "Benign: 56000\n",
      "Anomalies: 119341\n",
      "Contamination Rate: 68.06223302022916\n",
      "\n",
      "\n",
      "Testing Data:-\n",
      "Shape: (82332, 45)\n",
      "Benign: 37000\n",
      "Anomalies: 45332\n",
      "Contamination Rate: 55.06000097167566\n"
     ]
    }
   ],
   "source": [
    "#Load data\n",
    "train_data = pd.read_csv('../datasets/UNSW/UNSW_NB15_training-set.csv')\n",
    "test_data = pd.read_csv('../datasets/UNSW/UNSW_NB15_testing-set.csv')\n",
    "#Train data\n",
    "print('Training Data:-')\n",
    "print('Shape:', train_data.shape)\n",
    "X_train = train_data.drop(columns=['label'])\n",
    "y_train = train_data['label']\n",
    "print('Benign:', y_train[y_train == 0].count())\n",
    "print('Anomalies:', y_train[y_train == 1].count())\n",
    "contamination_rate = y_train[y_train == 1].count() / y_train.count() * 100\n",
    "print('Contamination Rate:', contamination_rate)\n",
    "print('\\n')\n",
    "#Test data  \n",
    "print('Testing Data:-')\n",
    "print('Shape:', test_data.shape)\n",
    "X_test = test_data.drop(columns=['label'])\n",
    "y_test = test_data['label']\n",
    "print('Benign:', y_test[y_test == 0].count())\n",
    "print('Anomalies:', y_test[y_test == 1].count())\n",
    "contamination_rate = y_test[y_test == 1].count() / y_test.count() * 100\n",
    "print('Contamination Rate:', contamination_rate)"
   ]
  },
  {
   "cell_type": "code",
   "execution_count": null,
   "metadata": {},
   "outputs": [],
   "source": [
    "#Train Isolation Forest\n",
    "sample_size = 256\n",
    "n_trees = 300\n",
    "clf = IsolationForest(sample_size, n_trees)\n",
    "start = time.time()\n",
    "clf.fit(X_train)\n",
    "end = time.time()\n",
    "print(f'Sample Size: {sample_size}, N Estimators: {n_trees}, Training Time: {end - start}')"
   ]
  },
  {
   "cell_type": "code",
   "execution_count": null,
   "metadata": {},
   "outputs": [],
   "source": [
    "#Predict\n",
    "start = time.time()\n",
    "scores = clf.anomaly_score(X_test)\n",
    "threshold, FPR = find_TPR_threshold(y_test, scores, 0.9)\n",
    "y_pred = clf.predict_from_anomaly_scores(scores, threshold)\n",
    "end = time.time()\n",
    "\n",
    "#Metrics\n",
    "print('Prediction Time:', end - start)\n",
    "print('Predictions: ')\n",
    "print(pd.Series(y_pred).value_counts())\n",
    "print('Confusion Matrix:')\n",
    "print(confusion_matrix(y_test, y_pred))\n",
    "print('Classification Report:')\n",
    "print(classification_report(y_test, y_pred))\n",
    "print('ROC AUC Score:', roc_auc_score(y_test, y_pred))\n",
    "print('F1 Score:', f1_score(y_test, y_pred))\n",
    "print('Threshold:', threshold)"
   ]
  },
  {
   "cell_type": "code",
   "execution_count": null,
   "metadata": {},
   "outputs": [],
   "source": [
    "#Train Sklearn Isolation Forest\n",
    "clf = skIsolationForest(n_estimators=n_trees, contamination=contamination_rate)\n",
    "start = time.time()\n",
    "clf.fit(X_train)\n",
    "end = time.time()\n",
    "print(f'Sample Size: {sample_size}, N Estimators: {n_trees}, Training Time: {end - start}')"
   ]
  },
  {
   "cell_type": "code",
   "execution_count": null,
   "metadata": {},
   "outputs": [],
   "source": [
    "#Predict\n",
    "start = time.time()\n",
    "sk_scores = clf.decision_function(X_test).reshape(-1, 1)\n",
    "sk_threshold, sk_FPR = find_TPR_threshold(y_test, scores, 0.9)\n",
    "sk_y_pred = clf.predict(X_test)\n",
    "sk_y_pred = np.where(y_pred == -1, 1, 0)\n",
    "end = time.time()\n",
    "\n",
    "#Metrics\n",
    "print('Prediction Time:', end - start)\n",
    "print('Predictions: ')\n",
    "print(pd.Series(sk_y_pred).value_counts())\n",
    "print('Confusion Matrix:')\n",
    "print(confusion_matrix(y_test, sk_y_pred))\n",
    "print('Classification Report:')\n",
    "print(classification_report(y_test, sk_y_pred))\n",
    "print('ROC AUC Score:', roc_auc_score(y_test, sk_y_pred))\n",
    "print('F1 Score:', f1_score(y_test, sk_y_pred))\n",
    "print('Threshold:', sk_threshold)\n",
    "\n"
   ]
  }
 ],
 "metadata": {
  "kernelspec": {
   "display_name": "iforest",
   "language": "python",
   "name": "python3"
  },
  "language_info": {
   "codemirror_mode": {
    "name": "ipython",
    "version": 3
   },
   "file_extension": ".py",
   "mimetype": "text/x-python",
   "name": "python",
   "nbconvert_exporter": "python",
   "pygments_lexer": "ipython3",
   "version": "3.12.2"
  }
 },
 "nbformat": 4,
 "nbformat_minor": 2
}
