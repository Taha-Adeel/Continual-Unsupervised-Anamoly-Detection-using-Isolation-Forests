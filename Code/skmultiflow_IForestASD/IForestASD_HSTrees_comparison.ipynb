{
 "cells": [
  {
   "cell_type": "markdown",
   "metadata": {},
   "source": [
    "# An example of how to test our IForestASD Implementation & Compare IForestASD against HSTrees"
   ]
  },
  {
   "cell_type": "markdown",
   "metadata": {},
   "source": [
    "## Install skmultiflow if needed\n",
    "You need to install git"
   ]
  },
  {
   "cell_type": "code",
   "execution_count": 1,
   "metadata": {},
   "outputs": [],
   "source": [
    "try:\n",
    "    import skmultiflow\n",
    "except ImportError as e:\n",
    "    print(\"scikit-multiflow package installation\")\n",
    "    %pip install -U git+https://github.com/scikit-multiflow/scikit-multiflow"
   ]
  },
  {
   "cell_type": "markdown",
   "metadata": {},
   "source": [
    "## Importations and configurations"
   ]
  },
  {
   "cell_type": "code",
   "execution_count": 2,
   "metadata": {},
   "outputs": [],
   "source": [
    "import matplotlib as plt\n",
    "plt.interactive(True)\n",
    "from source import functions\n",
    "func = functions.Comparison()\n",
    "import datetime"
   ]
  },
  {
   "cell_type": "markdown",
   "metadata": {},
   "source": [
    "## General parameters for the evaluation"
   ]
  },
  {
   "cell_type": "code",
   "execution_count": 3,
   "metadata": {},
   "outputs": [],
   "source": [
    "window_sizes = [50]\n",
    "n_estimators = [15]\n",
    "anomaly_threshold = 0.5\n",
    "max_sample = 10000 # We have gotten the size of the min dataset (Shuttle) to evaluate all dataset on the same basis.\n",
    "n_wait = max_sample # The evaluation step size\n",
    "# Used metric in the evaluation. Attention to use the metrics availlable in skmultiflow\n",
    "metrics=['accuracy', 'f1', 'precision', 'recall', 'true_vs_predicted', 'kappa', 'kappa_m', 'running_time', 'model_size'] "
   ]
  },
  {
   "cell_type": "markdown",
   "metadata": {},
   "source": [
    "## Using Shuttle dataset\n",
    "\n",
    "Dataset Name : Shuttle\n",
    "Instances : 49097\n",
    "Attributes : 9\n",
    "Anomaly Percentage : 7.15%"
   ]
  },
  {
   "cell_type": "code",
   "execution_count": 4,
   "metadata": {},
   "outputs": [
    {
     "name": "stdout",
     "output_type": "stream",
     "text": [
      "\n",
      "******************************** Window = 50 and n_estimator = 15 ********************************\n",
      "Prequential Evaluation\n",
      "Evaluating 1 target(s).\n",
      "Pre-training on 1 sample(s).\n",
      "Evaluating...\n",
      " #################### [100%] [685.70s]\n",
      "Processed samples: 10000\n",
      "Mean performance:\n",
      "iForestASD - Accuracy     : 0.8725\n",
      "iForestASD - Kappa        : 0.4666\n",
      "iForestASD - Kappa M      : -0.8059\n",
      "iForestASD - Precision: 0.4539\n",
      "iForestASD - Recall: 0.6148\n",
      "iForestASD - F1 score: 0.6595\n",
      "iForestASD - Training time (s)  : 9.54\n",
      "iForestASD - Testing time  (s)  : 675.64\n",
      "iForestASD - Total time    (s)  : 685.18\n",
      "iForestASD - Size (kB)          : 1482.5908\n",
      "\n",
      "Please find evaluation results here results/Shuttle_2024-04-02 13:46:50.358635/result_for_WS50_NE15.csv\n"
     ]
    }
   ],
   "source": [
    "dataset_name = \"Shuttle\"\n",
    "test_name = dataset_name+'_'+str(datetime.datetime.now())\n",
    "drift_rate = 7.15\n",
    "stream = func.get_dataset(dataset_name=dataset_name)\n",
    "for window in window_sizes:\n",
    "    for n_estimator in n_estimators:\n",
    "        print(\"\")\n",
    "        print(\"******************************** Window = \"+str(window)+\" and n_estimator = \"+str(n_estimator)+\" ********************************\")\n",
    "        func.run_comparison(stream=stream, stream_n_features=stream.n_features, window = window, \n",
    "                             estimators = n_estimator, anomaly = anomaly_threshold, drift_rate = drift_rate, \n",
    "                             result_folder=test_name, max_sample=max_sample, n_wait=n_wait, metrics=metrics)"
   ]
  },
  {
   "cell_type": "markdown",
   "metadata": {},
   "source": [
    "## Using HTTP dataset\n",
    "   \n",
    "Dataset Name : Smtp\n",
    "Instances : 95156\n",
    "Attributes : 3\n",
    "Anomaly Percentage : 0.03%"
   ]
  },
  {
   "cell_type": "code",
   "execution_count": 5,
   "metadata": {},
   "outputs": [
    {
     "name": "stdout",
     "output_type": "stream",
     "text": [
      "\n",
      "******************************** Window = 50 and n_estimator = 15 ********************************\n",
      "Prequential Evaluation\n",
      "Evaluating 1 target(s).\n",
      "Pre-training on 1 sample(s).\n",
      "Evaluating...\n",
      " #################### [100%] [58.98s]\n",
      "Processed samples: 10000\n",
      "Mean performance:\n",
      "iForestASD - Accuracy     : 0.7292\n",
      "iForestASD - Kappa        : 0.0000\n",
      "iForestASD - Kappa M      : 0.0000\n",
      "iForestASD - Precision: 0.3333\n",
      "iForestASD - Recall: 0.2431\n",
      "iForestASD - F1 score: 0.3748\n",
      "iForestASD - Training time (s)  : 1.15\n",
      "iForestASD - Testing time  (s)  : 57.27\n",
      "iForestASD - Total time    (s)  : 58.42\n",
      "iForestASD - Size (kB)          : 92.6299\n",
      "\n",
      "Please find evaluation results here results/HTTP_2024-04-02 13:58:16.160108/result_for_WS50_NE15.csv\n"
     ]
    }
   ],
   "source": [
    "dataset_name = \"HTTP\"\n",
    "test_name = dataset_name+'_'+str(datetime.datetime.now())\n",
    "drift_rate = 0.39\n",
    "stream = func.get_dataset(dataset_name=dataset_name)\n",
    "for window in window_sizes:\n",
    "    for n_estimator in n_estimators:\n",
    "        print(\"\")\n",
    "        print(\"******************************** Window = \"+str(window)+\" and n_estimator = \"+str(n_estimator)+\" ********************************\")\n",
    "        func.run_comparison(stream=stream, stream_n_features=stream.n_features, window = window, \n",
    "                             estimators = n_estimator, anomaly = anomaly_threshold, drift_rate = drift_rate, \n",
    "                             result_folder=test_name, max_sample=max_sample, n_wait=n_wait, metrics=metrics)"
   ]
  },
  {
   "cell_type": "markdown",
   "metadata": {},
   "source": [
    "## Using ForestCover dataset\n",
    "   \n",
    "Dataset Name : ForestCover\n",
    "Instances : 286048\n",
    "Attributes : 10\n",
    "Anomaly Percentage : 0.96%"
   ]
  },
  {
   "cell_type": "code",
   "execution_count": 6,
   "metadata": {},
   "outputs": [
    {
     "name": "stdout",
     "output_type": "stream",
     "text": [
      "\n",
      "******************************** Window = 50 and n_estimator = 15 ********************************\n",
      "Prequential Evaluation\n",
      "Evaluating 1 target(s).\n",
      "Pre-training on 1 sample(s).\n",
      "Evaluating...\n",
      " #################### [100%] [87.52s]\n",
      "Processed samples: 10000\n",
      "Mean performance:\n",
      "iForestASD - Accuracy     : 0.3344\n",
      "iForestASD - Kappa        : 0.0272\n",
      "iForestASD - Kappa M      : -2.0839\n",
      "iForestASD - Precision: 0.3538\n",
      "iForestASD - Recall: 0.3506\n",
      "iForestASD - F1 score: 0.3403\n",
      "iForestASD - Training time (s)  : 1.68\n",
      "iForestASD - Testing time  (s)  : 85.26\n",
      "iForestASD - Total time    (s)  : 86.93\n",
      "iForestASD - Size (kB)          : 222.6768\n",
      "\n",
      "Please find evaluation results here results/ForestCover_2024-04-02 13:59:15.320198/result_for_WS50_NE15.csv\n"
     ]
    }
   ],
   "source": [
    "dataset_name = \"ForestCover\"\n",
    "test_name = dataset_name+'_'+str(datetime.datetime.now())\n",
    "drift_rate = 0.96\n",
    "stream = func.get_dataset(dataset_name=dataset_name)\n",
    "for window in window_sizes:\n",
    "    for n_estimator in n_estimators:\n",
    "        print(\"\")\n",
    "        print(\"******************************** Window = \"+str(window)+\" and n_estimator = \"+str(n_estimator)+\" ********************************\")\n",
    "        func.run_comparison(stream=stream, stream_n_features=stream.n_features, window = window, \n",
    "                             estimators = n_estimator, anomaly = anomaly_threshold, drift_rate = drift_rate, \n",
    "                             result_folder=test_name, max_sample=max_sample, n_wait=n_wait, metrics=metrics)"
   ]
  },
  {
   "cell_type": "markdown",
   "metadata": {},
   "source": [
    "# Plot differents results"
   ]
  },
  {
   "cell_type": "markdown",
   "metadata": {},
   "source": [
    "## Fusion of differents results file"
   ]
  },
  {
   "cell_type": "code",
   "execution_count": null,
   "metadata": {},
   "outputs": [],
   "source": []
  },
  {
   "cell_type": "markdown",
   "metadata": {},
   "source": [
    "## Model Size"
   ]
  },
  {
   "cell_type": "code",
   "execution_count": 7,
   "metadata": {},
   "outputs": [
    {
     "ename": "NameError",
     "evalue": "name 'df_shuttle' is not defined",
     "output_type": "error",
     "traceback": [
      "\u001b[0;31m---------------------------------------------------------------------------\u001b[0m",
      "\u001b[0;31mNameError\u001b[0m                                 Traceback (most recent call last)",
      "\u001b[0;32m/tmp/ipykernel_165264/2770539480.py\u001b[0m in \u001b[0;36m<module>\u001b[0;34m\u001b[0m\n\u001b[0;32m----> 1\u001b[0;31m \u001b[0mdf_shuttle\u001b[0m\u001b[0;34m.\u001b[0m\u001b[0msort_values\u001b[0m\u001b[0;34m(\u001b[0m\u001b[0mby\u001b[0m \u001b[0;34m=\u001b[0m \u001b[0;34m[\u001b[0m\u001b[0;34m'window'\u001b[0m\u001b[0;34m,\u001b[0m \u001b[0;34m'estimators'\u001b[0m\u001b[0;34m]\u001b[0m\u001b[0;34m,\u001b[0m \u001b[0minplace\u001b[0m\u001b[0;34m=\u001b[0m \u001b[0;32mTrue\u001b[0m\u001b[0;34m)\u001b[0m\u001b[0;34m\u001b[0m\u001b[0;34m\u001b[0m\u001b[0m\n\u001b[0m\u001b[1;32m      2\u001b[0m ax1 =  df_shuttle.plot(x=\"Windows_Trees_set_up\", y=['model_size_[HSTrees]'], kind=\"bar\", figsize=(10, 5),\n\u001b[1;32m      3\u001b[0m                      title= ' Model Size : HS-Trees (SHUTTLE) vs iForestASD (3 datasets)')\n\u001b[1;32m      4\u001b[0m \u001b[0;34m\u001b[0m\u001b[0m\n\u001b[1;32m      5\u001b[0m \u001b[0;31m#ax1.plot(df_forest.Windows_Trees_set_up, df_forest['model_size_[iForestASD]'], color = 'yellow')\u001b[0m\u001b[0;34m\u001b[0m\u001b[0;34m\u001b[0m\u001b[0m\n",
      "\u001b[0;31mNameError\u001b[0m: name 'df_shuttle' is not defined"
     ]
    }
   ],
   "source": [
    "df_shuttle.sort_values(by = ['window', 'estimators'], inplace= True)\n",
    "ax1 =  df_shuttle.plot(x=\"Windows_Trees_set_up\", y=['model_size_[HSTrees]'], kind=\"bar\", figsize=(10, 5),\n",
    "                     title= ' Model Size : HS-Trees (SHUTTLE) vs iForestASD (3 datasets)')\n",
    " \n",
    "#ax1.plot(df_forest.Windows_Trees_set_up, df_forest['model_size_[iForestASD]'], color = 'yellow')\n",
    " \n",
    "#ax1.legend('HSTrees_size',loc=\"upper left\")\n",
    "ax2 = ax1.twinx()\n",
    "\n",
    "ax2.plot(df_shuttle.Windows_Trees_set_up, df_shuttle['model_size_[iForestASD]'], color = 'red', marker=\"o\")\n",
    "ax2.plot(df_shuttle.Windows_Trees_set_up, df_forest['model_size_[iForestASD]'], color = 'green', marker=\"x\")\n",
    "ax2.plot(df_shuttle.Windows_Trees_set_up, df_smtp['model_size_[iForestASD]'], color = 'orange', marker=\"o\")\n",
    "\n",
    "ax2.set_ylabel(\"model_size_[iForestASD]\",color=\"red\",fontsize=14)\n",
    "ax1.set_xlabel(\"Parameters Set up - Windows__Trees\",color=\"black\",fontsize=14)\n",
    " \n",
    "ax2.legend(['SHUTTLE_IFA', 'FOREST_IFA', 'SMTP_IFA'], loc = 'upper right')\n",
    "ax1.legend(['HSTrees_Shuttle_Model_Size'])\n",
    " \n",
    "#ax3 = ax1.twinx()\n",
    " \n",
    "#ax2.legend([ax1.get_lines()[0], ax2.get_lines()[0]],\\\n",
    "#          ['model_size_[HSTrees]',\"model_size_[iForestASD]\"])"
   ]
  },
  {
   "cell_type": "markdown",
   "metadata": {},
   "source": [
    "## Processing Time"
   ]
  },
  {
   "cell_type": "code",
   "execution_count": null,
   "metadata": {},
   "outputs": [],
   "source": [
    "ax1 = df_forest.plot(x=\"Windows_Trees_set_up\", y=[ 'training_time_[HSTrees]',  'training_time_[iForestASD]', 'testing_time_[HSTrees]',\n",
    "     \n",
    "                                         ], kind=\"bar\", title='FOREST COVER - Running Time (IFA Testing in right axis)')\n",
    "ax2 = ax1.twinx()\n",
    " \n",
    "ax2.plot(df_forest.Windows_Trees_set_up, df_forest['testing_time_[iForestASD]'], color = 'red', marker=\"o\")\n",
    "ax2.legend(['IFA_Testing'],loc = \"upper right\")\n",
    "ax1.set_xlabel(\"Parameters Set up - Windows__Trees\",color=\"black\",fontsize=14)\n",
    "\n",
    "ax2.set_ylabel(\"testing_time_[iForestASD]\",color=\"red\",fontsize=14)\n",
    "ax1.legend(['HST_Training', 'IFA_Training', 'HST_Testing'], loc = 'upper center')"
   ]
  }
 ],
 "metadata": {
  "kernelspec": {
   "display_name": "Python 3",
   "language": "python",
   "name": "python3"
  },
  "language_info": {
   "codemirror_mode": {
    "name": "ipython",
    "version": 3
   },
   "file_extension": ".py",
   "mimetype": "text/x-python",
   "name": "python",
   "nbconvert_exporter": "python",
   "pygments_lexer": "ipython3",
   "version": "3.10.12"
  }
 },
 "nbformat": 4,
 "nbformat_minor": 2
}
